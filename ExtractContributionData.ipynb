{
 "cells": [
  {
   "cell_type": "code",
   "execution_count": 12,
   "metadata": {},
   "outputs": [],
   "source": [
    "from github import Github\n",
    "import pandas as pd\n",
    "import requests\n",
    "from tqdm import tqdm\n",
    "import re"
   ]
  },
  {
   "cell_type": "code",
   "execution_count": 13,
   "metadata": {},
   "outputs": [],
   "source": [
    "g = Github(\"\")\n",
    "org = g.get_organization(\"Rdatatable\")\n",
    "repo = org.get_repo(\"data.table\")"
   ]
  },
  {
   "cell_type": "code",
   "execution_count": 14,
   "metadata": {},
   "outputs": [
    {
     "data": {
      "text/plain": [
       "(646, 5000)"
      ]
     },
     "execution_count": 14,
     "metadata": {},
     "output_type": "execute_result"
    }
   ],
   "source": [
    "g.rate_limiting"
   ]
  },
  {
   "cell_type": "markdown",
   "metadata": {},
   "source": [
    "### Issues Extraction\n",
    "\n",
    "##### Required Filters\n",
    "Issues Active Metric\n",
    "- By actor (submitter, commenter, closer)\n",
    "- By groups of actors (employer, gender, for each of the actors)\n",
    "- By ratio of active issues over total number of issues during that period\n",
    "- By start and finish date of the period during which issues are considered\n",
    "- By total number of active issues during the period\n",
    "\n",
    "Issues Age Metric\n",
    "- Module or working group\n",
    "- Tags/labels on issue\n",
    "\n",
    "Issues New Metric\n",
    "- By actor (submitter, commenter, closer)\n",
    "- By groups of actors (employer, gender, for each of the actors)\n",
    "\n",
    "Issues Resolution Duration Metric\n",
    "- By open time\n",
    "- By closed time\n",
    "- By actor (submitter, commenter, closer)\n",
    "- By groups of actors (employer, gender, for each of the actors)\n",
    "\n",
    "Issues Closed Metric\n",
    "- By actor (submitter, commenter, closer)\n",
    "- By groups of actors (employer, gender, for each of the actors)\n",
    "\n",
    "Response Time Metric"
   ]
  },
  {
   "cell_type": "code",
   "execution_count": 15,
   "metadata": {},
   "outputs": [],
   "source": [
    "issues = repo.get_issues(state = \"all\")\n",
    "extract_issues_list = []\n",
    "extract_issues_comments_list = []"
   ]
  },
  {
   "cell_type": "code",
   "execution_count": 16,
   "metadata": {},
   "outputs": [
    {
     "name": "stderr",
     "output_type": "stream",
     "text": [
      "Processing issues: 819issue [05:13,  4.50issue/s]Request GET /repos/Rdatatable/data.table/issues/5785/comments failed with 403: Forbidden\n",
      "Setting next backoff to 498.732561s\n",
      "Processing issues: 4711issue [49:35,  1.24issue/s]Request GET /repos/Rdatatable/data.table/issues/1867 failed with 403: Forbidden\n",
      "Setting next backoff to 1438.553514s\n",
      "Processing issues: 6578issue [1:41:25,  1.08issue/s] \n"
     ]
    }
   ],
   "source": [
    "for issue in tqdm(issues, desc=\"Processing issues\", unit=\"issue\"):\n",
    "    if not issue.pull_request:\n",
    "        extract_issues_list.append(\n",
    "            {\n",
    "                \"id\" : issue.id,\n",
    "                \"title\" : issue.title,\n",
    "                \"created_at\" : issue.created_at,\n",
    "                \"closed_at\" : issue.closed_at,\n",
    "                \"created_by\" : issue.user.url,\n",
    "                \"closed_by\" : issue.closed_by,\n",
    "                \"labels\" : issue.labels,\n",
    "            }\n",
    "        )\n",
    "\n",
    "        for comment in issue.get_comments():\n",
    "            extract_issues_comments_list.append({\n",
    "                \"issue_id\" : issue.id,\n",
    "                \"id\" : comment.id,\n",
    "                \"created_by\" : comment.user,\n",
    "                \"created_at\" : comment.created_at,\n",
    "                \"body\" : comment.body\n",
    "            })"
   ]
  },
  {
   "cell_type": "code",
   "execution_count": 26,
   "metadata": {},
   "outputs": [],
   "source": [
    "issues_df = pd.DataFrame(extract_issues_list)\n",
    "issues_df = issues_df.astype(str)\n",
    "\n",
    "issues_comments_df = pd.DataFrame(extract_issues_comments_list)\n",
    "issues_comments_df = issues_comments_df.astype(str)"
   ]
  },
  {
   "cell_type": "code",
   "execution_count": 27,
   "metadata": {},
   "outputs": [],
   "source": [
    "def clean_text_columns(df):\n",
    "    for col in df.select_dtypes(include=['object', 'string']):\n",
    "        df[col] = df[col].apply(lambda x: re.sub(r'[^\\x20-\\x7E]', '', str(x)) if pd.notnull(x) else x)\n",
    "    return df"
   ]
  },
  {
   "cell_type": "code",
   "execution_count": 28,
   "metadata": {},
   "outputs": [],
   "source": [
    "issues_df = clean_text_columns(issues_df)\n",
    "issues_comments_df = clean_text_columns(issues_comments_df)"
   ]
  },
  {
   "cell_type": "code",
   "execution_count": 29,
   "metadata": {},
   "outputs": [],
   "source": [
    "issues_df.to_excel(\n",
    "    'datasets/issues.xlsx', \n",
    "    engine = 'openpyxl'\n",
    ")\n",
    "\n",
    "issues_comments_df.to_excel(\n",
    "    'datasets/issues_comments.xlsx', \n",
    "    engine = 'openpyxl'\n",
    ")"
   ]
  },
  {
   "cell_type": "markdown",
   "metadata": {},
   "source": [
    "### Pull Requests Extraction\n",
    "##### Requested Filters:\n",
    "\n",
    "Change Request Closure Ratio\n",
    "- Date Range (Created and Closed)\n",
    "- Automated Responses\n",
    "- Labels\n",
    "- Type of Change Request\n",
    "- Type of Close\n",
    "\n",
    "Change Request Reviews\n",
    "- Number of contributors doing reviews\n",
    "- Automated Responses\n",
    "- Type of Change Request\n",
    "- Date Range (Created and Closed)\n",
    "\n",
    "Change Request Commits\n",
    "- Lines of code added per commit\n",
    "- Lines of code removed per commit\n",
    "- Change in code over the period of time\n",
    "- Number of files changed per commit\n",
    "- Contributors per commit\n",
    "\n",
    "Change Request\n",
    "- Date Range (Created and Closed)\n",
    "- Actors\n",
    "- Group of Actors\n",
    "- Status\n",
    "\n",
    "Change Requests Duration\n",
    "- Actors\n",
    "- Groups of Actors\n",
    "- Period\n",
    "\n",
    "Change Requests Accepted\n",
    "- Actors\n",
    "- Groups of Actors\n",
    "- Period\n",
    "\n",
    "Change Requests Rejected\n",
    "- Actors\n",
    "- Groups of Actors\n",
    "- Period"
   ]
  },
  {
   "cell_type": "code",
   "execution_count": 4,
   "metadata": {},
   "outputs": [],
   "source": [
    "pulls = repo.get_pulls(state = \"all\")\n",
    "extract_pulls_list = []\n",
    "extract_pulls_comments_list = []"
   ]
  },
  {
   "cell_type": "code",
   "execution_count": 5,
   "metadata": {},
   "outputs": [],
   "source": [
    "for pull in tqdm(pulls, desc=\"Processing Pull Requests\", unit=\"PR\"):\n",
    "    extract_pulls_list.append(\n",
    "        {\n",
    "            \"id\" : pull.id,\n",
    "            \"title\" : pull.title,\n",
    "            \"created_at\" : pull.created_at,\n",
    "            \"closed_at\" : pull.closed_at,\n",
    "            \"created_by\" : pull.user.url,\n",
    "            \"labels\" : pull.labels,\n",
    "            \"state\" : pull.state,\n",
    "            \"number_commits\" : pull.commits,\n",
    "            \"number_files_modified\" : pull.changed_files,\n",
    "            \"mergeable_status\" : pull.mergeable_state\n",
    "        }\n",
    "    )\n",
    "\n",
    "    for comment in pull.get_comments():\n",
    "        extract_pulls_comments_list.append(\n",
    "            {\n",
    "                \"pull_request_id\" : pull.id,\n",
    "                \"id\" : comment.id,\n",
    "                \"created_by\" : comment.user,\n",
    "                \"created_at\" : comment.created_at,\n",
    "                \"body\" : comment.body\n",
    "            }\n",
    "        )\n"
   ]
  },
  {
   "cell_type": "code",
   "execution_count": 6,
   "metadata": {},
   "outputs": [],
   "source": [
    "pull_df = pd.DataFrame(extract_pulls_list)\n",
    "pull_df = pull_df.astype(str)\n",
    "\n",
    "pull_comments_df = pd.DataFrame(extract_pulls_comments_list)\n",
    "pull_comments_df = pull_comments_df.astype(str)"
   ]
  },
  {
   "cell_type": "code",
   "execution_count": 7,
   "metadata": {},
   "outputs": [],
   "source": [
    "pull_df.to_excel(\n",
    "    'datasets/pull_requests.xlsx', \n",
    "    engine = 'openpyxl'\n",
    ")\n",
    "\n",
    "pull_comments_df.to_excel(\n",
    "    'datasets/pull_request_comments.xlsx', \n",
    "    engine = 'openpyxl'\n",
    ")"
   ]
  },
  {
   "cell_type": "markdown",
   "metadata": {},
   "source": [
    "## Milestone Extraction"
   ]
  },
  {
   "cell_type": "code",
   "execution_count": 10,
   "metadata": {},
   "outputs": [],
   "source": [
    "token = ''\n",
    "repo_owner = 'Rdatatable'\n",
    "repo_name = 'data.table'\n",
    "\n",
    "url = f'https://api.github.com/repos/{repo_owner}/{repo_name}/milestones?state=all'\n",
    "\n",
    "headers = {\n",
    "    'Authorization': f'token {token}',\n",
    "    'Accept': 'application/vnd.github.v3+json'\n",
    "}\n",
    "\n",
    "response = requests.get(url, headers=headers)\n",
    "milestones = response.json()\n",
    "\n",
    "df = pd.DataFrame([\n",
    "    {\n",
    "        \"MilestoneId\": milestone['id'],\n",
    "        \"MilestoneTitle\": milestone['title'], \n",
    "        \"OpennedAt\": milestone['created_at'],\n",
    "        \"ClosedAt\": milestone['closed_at'],\n",
    "        \"OpennedIssues\": milestone['open_issues'],\n",
    "        \"ClosedIssues\": milestone['closed_issues'],\n",
    "        \"State\": milestone[\"state\"]\n",
    "    } for milestone in milestones\n",
    "])"
   ]
  },
  {
   "cell_type": "code",
   "execution_count": 11,
   "metadata": {},
   "outputs": [],
   "source": [
    "df.to_excel(\n",
    "    'datasets/milestones.xlsx', \n",
    "    engine = 'openpyxl'\n",
    ")"
   ]
  },
  {
   "cell_type": "code",
   "execution_count": null,
   "metadata": {},
   "outputs": [],
   "source": []
  }
 ],
 "metadata": {
  "kernelspec": {
   "display_name": "Python 3",
   "language": "python",
   "name": "python3"
  },
  "language_info": {
   "codemirror_mode": {
    "name": "ipython",
    "version": 3
   },
   "file_extension": ".py",
   "mimetype": "text/x-python",
   "name": "python",
   "nbconvert_exporter": "python",
   "pygments_lexer": "ipython3",
   "version": "3.9.6"
  }
 },
 "nbformat": 4,
 "nbformat_minor": 2
}
